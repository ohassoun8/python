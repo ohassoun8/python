{
 "cells": [
  {
   "cell_type": "code",
   "execution_count": 2,
   "id": "d9e3ea7a-6e04-4114-b9e3-0a2a85c20df8",
   "metadata": {},
   "outputs": [
    {
     "data": {
      "text/plain": [
       "72"
      ]
     },
     "execution_count": 2,
     "metadata": {},
     "output_type": "execute_result"
    }
   ],
   "source": [
    "8 * 9"
   ]
  },
  {
   "cell_type": "code",
   "execution_count": 3,
   "id": "871f5b89-1c2c-4a76-be20-b8eea5db35cb",
   "metadata": {},
   "outputs": [
    {
     "data": {
      "text/plain": [
       "47"
      ]
     },
     "execution_count": 3,
     "metadata": {},
     "output_type": "execute_result"
    }
   ],
   "source": [
    "47"
   ]
  },
  {
   "cell_type": "code",
   "execution_count": 4,
   "id": "32cac02d-f969-4c13-96e7-7755ccd2299b",
   "metadata": {},
   "outputs": [
    {
     "name": "stdout",
     "output_type": "stream",
     "text": [
      "47\n"
     ]
    }
   ],
   "source": [
    "print(47)"
   ]
  }
 ],
 "metadata": {
  "kernelspec": {
   "display_name": "Python 3 (ipykernel)",
   "language": "python",
   "name": "python3"
  },
  "language_info": {
   "codemirror_mode": {
    "name": "ipython",
    "version": 3
   },
   "file_extension": ".py",
   "mimetype": "text/x-python",
   "name": "python",
   "nbconvert_exporter": "python",
   "pygments_lexer": "ipython3",
   "version": "3.12.7"
  }
 },
 "nbformat": 4,
 "nbformat_minor": 5
}
